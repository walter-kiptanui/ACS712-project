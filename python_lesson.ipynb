{
  "nbformat": 4,
  "nbformat_minor": 0,
  "metadata": {
    "colab": {
      "provenance": [],
      "authorship_tag": "ABX9TyNiYxKCGiRFxRJT2H2Vyf6s",
      "include_colab_link": true
    },
    "kernelspec": {
      "name": "python3",
      "display_name": "Python 3"
    },
    "language_info": {
      "name": "python"
    }
  },
  "cells": [
    {
      "cell_type": "markdown",
      "metadata": {
        "id": "view-in-github",
        "colab_type": "text"
      },
      "source": [
        "<a href=\"https://colab.research.google.com/github/walter-kiptanui/ACS712-project/blob/main/python_lesson.ipynb\" target=\"_parent\"><img src=\"https://colab.research.google.com/assets/colab-badge.svg\" alt=\"Open In Colab\"/></a>"
      ]
    },
    {
      "cell_type": "code",
      "execution_count": 1,
      "metadata": {
        "id": "78qbnB3XkzyJ"
      },
      "outputs": [],
      "source": [
        "import torch"
      ]
    },
    {
      "cell_type": "code",
      "source": [
        "tensor_3d = torch.randn(3, 3, 3, 4)\n",
        "tensor_3d"
      ],
      "metadata": {
        "colab": {
          "base_uri": "https://localhost:8080/"
        },
        "id": "DwZNNHV1ljI1",
        "outputId": "2f7c340f-ade1-4405-fd7a-b9cff0de1c13"
      },
      "execution_count": 5,
      "outputs": [
        {
          "output_type": "execute_result",
          "data": {
            "text/plain": [
              "tensor([[[[ 1.0713, -0.5079,  0.1461,  0.8216],\n",
              "          [ 1.2754,  0.3187, -0.1288,  0.3053],\n",
              "          [-0.4700,  0.8126,  0.1380, -0.4218]],\n",
              "\n",
              "         [[-0.1779, -0.0613,  1.1038,  1.2601],\n",
              "          [-0.0961, -0.6782, -0.0647, -1.3001],\n",
              "          [ 0.6093, -0.6807,  0.6296, -1.7817]],\n",
              "\n",
              "         [[ 0.0033, -1.1270,  0.7461,  0.7308],\n",
              "          [-1.1993,  1.0025,  0.6612,  0.5550],\n",
              "          [-1.0311,  1.1897, -0.1191, -0.1665]]],\n",
              "\n",
              "\n",
              "        [[[ 1.7286, -0.0868, -0.4352,  1.0614],\n",
              "          [-1.0283,  1.9358, -0.7739,  1.3429],\n",
              "          [ 1.0811, -1.9465, -0.4100,  0.3406]],\n",
              "\n",
              "         [[ 0.0135, -1.3422,  0.8335,  0.8439],\n",
              "          [ 1.8566, -0.5024, -0.4159, -1.3729],\n",
              "          [ 0.1396,  0.7606,  0.2749,  0.7456]],\n",
              "\n",
              "         [[ 0.9513, -0.6856,  1.0402,  0.2608],\n",
              "          [-0.8919, -1.3324,  1.8458,  0.4624],\n",
              "          [-0.1362,  1.0510,  1.4790,  1.6926]]],\n",
              "\n",
              "\n",
              "        [[[-1.1359,  0.1496,  0.0033, -0.1895],\n",
              "          [ 0.0611, -0.1431, -0.5346, -1.1940],\n",
              "          [ 1.7715, -0.8118,  0.3808, -2.5122]],\n",
              "\n",
              "         [[ 1.7254, -0.0140, -0.0303,  0.1727],\n",
              "          [ 0.5197, -0.5823, -0.3675,  1.1888],\n",
              "          [ 1.1456,  1.2015,  0.2004, -0.0631]],\n",
              "\n",
              "         [[-0.7830, -1.5200, -0.4267, -0.4551],\n",
              "          [ 0.3458, -0.2268,  0.1578,  0.3245],\n",
              "          [ 0.9838,  1.2758, -0.3136,  1.2746]]]])"
            ]
          },
          "metadata": {},
          "execution_count": 5
        }
      ]
    },
    {
      "cell_type": "code",
      "source": [
        "2+2"
      ],
      "metadata": {
        "colab": {
          "base_uri": "https://localhost:8080/"
        },
        "id": "kE4FB68AqUV1",
        "outputId": "d7e62324-3160-457b-ffe8-04ea580cc627"
      },
      "execution_count": 6,
      "outputs": [
        {
          "output_type": "execute_result",
          "data": {
            "text/plain": [
              "4"
            ]
          },
          "metadata": {},
          "execution_count": 6
        }
      ]
    }
  ]
}